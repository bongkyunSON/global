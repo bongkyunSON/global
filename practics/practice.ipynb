{
 "cells": [
  {
   "cell_type": "code",
   "execution_count": null,
   "metadata": {},
   "outputs": [],
   "source": [
    "l = 5\n",
    "r = 555\n",
    "def solution(l, r):\n",
    "    answer = []\n",
    "    for num in range(l, r + 1):\n",
    "        print(f\"\\n현재 숫자: {num}\")\n",
    "\n",
    "        num_str = str(num)\n",
    "        print(f\"문자열로 변환: {num_str}\")\n",
    "\n",
    "        num_set = set(num_str)\n",
    "        print(f\"집합으로 변환: {num_set}\")\n",
    "\n",
    "        diff_set = num_set - set(['0', '5'])\n",
    "        print(f\"0과 5만 남겨두고 뺀 결과: {diff_set}\")\n",
    "\n",
    "        if not diff_set:\n",
    "            print(\"==> 숫자가 0과 5로만 이루어져 있으므로 추가합니다.\")\n",
    "            answer.append(num)\n",
    "        else:\n",
    "            print(\"==> 숫자에 0과 5 이외의 숫자가 있으므로 제외합니다.\")\n",
    "\n",
    "    return answer\n",
    "\n",
    "# 예시 사용\n",
    "solution(50, 55)\n",
    "\n",
    "solution(l, r)\n",
    "\n"
   ]
  },
  {
   "cell_type": "code",
   "execution_count": null,
   "metadata": {},
   "outputs": [],
   "source": [
    "n = 10\n",
    "def solution(n):\n",
    "    \n",
    "    answer = [n]\n",
    "\n",
    "    while n > 1:\n",
    "        if n % 2 == 0:\n",
    "            n = n / 2\n",
    "            answer.append(n)\n",
    "        else:\n",
    "            n = n * 3 + 1\n",
    "            answer.append(n)\n",
    "    return answer\n",
    "\n",
    "solution(n)\n",
    "\n",
    "\n"
   ]
  },
  {
   "cell_type": "code",
   "execution_count": null,
   "metadata": {},
   "outputs": [],
   "source": [
    "arr = [1, 4, 2, 5, 3]\n",
    "def solution(arr):\n",
    "    i = 0\n",
    "    stk = []\n",
    "    while i < len(arr):\n",
    "        if stk == []:\n",
    "            stk.append(arr[i])\n",
    "            i += 1\n",
    "        else:\n",
    "            if stk[-1] < arr[i]:\n",
    "                stk.append(arr[i])\n",
    "                i += 1\n",
    "            else:\n",
    "                stk.pop()\n",
    "    return stk\n",
    "\n",
    "solution(arr)\n",
    "            "
   ]
  },
  {
   "cell_type": "code",
   "execution_count": null,
   "metadata": {},
   "outputs": [],
   "source": [
    "a = 1\n",
    "b = 1\n",
    "c = 1\n",
    "d = 1\n",
    "\n",
    "e = a+b+c+d\n",
    "len(set(str(e)))\n",
    "\n",
    "\n"
   ]
  },
  {
   "cell_type": "code",
   "execution_count": null,
   "metadata": {},
   "outputs": [],
   "source": [
    "\n",
    "\n",
    "\n",
    "\n",
    "from collections import Counter\n",
    "def solution(a, b, c, d):\n",
    "    \n",
    "    counter = Counter()\n",
    "    _str = str(a) + str(b) + str(c) + str(d)\n",
    "    if counter(_str).most_common()[0][1] == 4:\n",
    "        return 1111 * int(_str)\n",
    "    elif counter(_str).most_common()[0][1] == 3:\n",
    "        return (10 * int(_str[0]) + int(_str[2])) ** 2\n",
    "    elif counter(_str).most_common()[0][1] == 2:\n",
    "        if counter(_str).most_common()[0][1] == 2:\n",
    "            return (int(_str[0]) + int(_str[2])) * abs(int(_str[0]) - int(_str[2]))\n",
    "        else:\n",
    "            return (int(_str[0]) + int(_str[1])) * abs(int(_str[0]) - int(_str[1]))\n",
    "    \n",
    "    \n",
    "    \n",
    "    \n",
    "\n",
    "\n",
    "\n",
    "\n",
    "\n",
    "\n",
    "\n",
    "\n",
    "\n",
    "\n",
    "\n",
    "\n",
    "\n",
    "\n",
    "\n",
    "\n",
    "\n",
    "\n"
   ]
  },
  {
   "cell_type": "code",
   "execution_count": null,
   "metadata": {},
   "outputs": [],
   "source": [
    "a = 1\n",
    "b = 1\n",
    "c = 1\n",
    "d = 1\n",
    "\n",
    "_str = str(a) + str(b) + str(c) + str(d)\n",
    "counter = Counter(_str)\n",
    "most = counter.most_common()\n",
    "\n",
    "int(most[0][0])"
   ]
  },
  {
   "cell_type": "code",
   "execution_count": null,
   "metadata": {},
   "outputs": [],
   "source": [
    "a = 6\n",
    "b = 3\n",
    "c = 3\n",
    "d = 6\n",
    "\n",
    "from collections import Counter\n",
    "def solution(a, b, c, d):\n",
    "    _str = str(a) + str(b) + str(c) + str(d)\n",
    "    counter = Counter(_str)\n",
    "    most = counter.most_common()\n",
    "    \n",
    "    \n",
    "    if most[0][1] == 4:\n",
    "        return 1111 * int(most[0][0])\n",
    "    \n",
    "    elif most[0][1] == 3:\n",
    "        return (10 * int(most[0][0]) + int(most[1][0])) ** 2\n",
    "    \n",
    "    elif most[0][1] == 2:\n",
    "        if most[0][1] == most[1][1]:\n",
    "            return (int(most[0][0]) + int(most[1][0])) * abs(int(most[0][0]) - int(most[1][0]))\n",
    "        else:\n",
    "            return int(most[1][0]) * int(most[2][0])\n",
    "    \n",
    "    else: \n",
    "        return(int(min(_str)))\n",
    "        \n",
    "\n",
    "\n",
    "solution(a, b, c, d)\n",
    "        \n",
    "        "
   ]
  },
  {
   "cell_type": "code",
   "execution_count": null,
   "metadata": {},
   "outputs": [],
   "source": [
    "number = \"78720646226947352489\"\n",
    "\n",
    "answer = 0\n",
    "for i in number:\n",
    "    answer += (i)\n",
    "    \n",
    "answer\n",
    "\n",
    "\n"
   ]
  },
  {
   "cell_type": "code",
   "execution_count": 69,
   "metadata": {},
   "outputs": [
    {
     "data": {
      "text/plain": [
       "'programmers'"
      ]
     },
     "execution_count": 69,
     "metadata": {},
     "output_type": "execute_result"
    }
   ],
   "source": [
    "my_string = \"rermgorpsam\"\t\n",
    "queries = [[2, 3], [0, 7], [5, 9], [6, 10]]\n",
    "answer = list(my_string)\n",
    "\n",
    "\n",
    "for i, j in queries:\n",
    "    answer[i:j+1] = answer[i:j+1][::-1]\n",
    "\n",
    "\"\".join(answer)\n",
    "\n",
    "\n"
   ]
  },
  {
   "cell_type": "code",
   "execution_count": null,
   "metadata": {},
   "outputs": [],
   "source": [
    "my_string"
   ]
  }
 ],
 "metadata": {
  "kernelspec": {
   "display_name": "global",
   "language": "python",
   "name": "python3"
  },
  "language_info": {
   "codemirror_mode": {
    "name": "ipython",
    "version": 3
   },
   "file_extension": ".py",
   "mimetype": "text/x-python",
   "name": "python",
   "nbconvert_exporter": "python",
   "pygments_lexer": "ipython3",
   "version": "3.10.16"
  }
 },
 "nbformat": 4,
 "nbformat_minor": 2
}
